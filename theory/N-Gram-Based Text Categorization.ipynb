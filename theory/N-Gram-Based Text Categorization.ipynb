{
 "cells": [
  {
   "cell_type": "markdown",
   "metadata": {},
   "source": [
    "# N-Gram-Based Text Categorization\n",
    "http://odur.let.rug.nl/~vannoord/TextCat/textcat.pdf\n",
    "\n",
    "William B. Cavnar and John M. Trenkle (1994)"
   ]
  },
  {
   "cell_type": "markdown",
   "metadata": {},
   "source": [
    "Can be used for language classification, or topic classification"
   ]
  },
  {
   "cell_type": "markdown",
   "metadata": {},
   "source": [
    "#### Implementations\n",
    "\n",
    "* https://github.com/FGRibreau/node-language-detect"
   ]
  },
  {
   "cell_type": "markdown",
   "metadata": {},
   "source": [
    "### Zipf’s Law\n",
    "The nth most common word in a human language text occurs with a frequency inversely proportional to n.\n",
    "\n",
    "https://www.youtube.com/watch?v=fCn8zs912OE <br>\n",
    "https://en.wikipedia.org/wiki/Zipf%27s_law"
   ]
  },
  {
   "cell_type": "markdown",
   "metadata": {},
   "source": [
    "# Dataflow\n",
    "<img src=\"./images/1.png\" width=\"50%\"/>\n",
    "\n",
    "1. Split the text into separate tokens consisting only of letters and apostrophes. Digits and punctuation are discarded. Pad the token with sufficient blanks before and after.\n",
    "2. Scan down each token, generating all pos- sible N-grams, for N=1 to 5. Use positions that span the padding blanks, as well.\n",
    "3. Hash into a table to find the counter for the N-gram, and increment it. The hash table uses a conventional collision handling mechanism to ensure that each N-gram gets its own counter\n",
    "4. When done, output all N-grams and their counts.\n",
    "5. Sort those counts into reverse order by the number of occurrences. Keep just the N- grams themselves, which are now in reverse order of frequency.\n"
   ]
  },
  {
   "cell_type": "markdown",
   "metadata": {},
   "source": [
    "###  Calculating the Out-Of-Place Measure between Two Profiles\n",
    "<img src=\"./images/2.png\" width=\"70%\"/>"
   ]
  },
  {
   "cell_type": "markdown",
   "metadata": {},
   "source": [
    "# TODO\n",
    "* grams padding?\n",
    "* topic classification\n",
    "* different ngrams sizes\n",
    "* find ways to increase accuracy..."
   ]
  },
  {
   "cell_type": "code",
   "execution_count": 261,
   "metadata": {
    "collapsed": true
   },
   "outputs": [],
   "source": [
    "import nltk\n",
    "from nltk.corpus import reuters\n",
    "from nltk.util import ngrams\n",
    "import operator\n",
    "import matplotlib.pyplot as plt\n",
    "import numpy as np\n",
    "import re\n",
    "%matplotlib inline\n"
   ]
  },
  {
   "cell_type": "code",
   "execution_count": 323,
   "metadata": {
    "collapsed": true
   },
   "outputs": [],
   "source": [
    "# constants\n",
    "\n",
    "THRESHOLD = 300\n",
    "\n",
    "class Error(Exception):\n",
    "    \"\"\"Base class for exceptions in this module.\"\"\"\n",
    "    pass\n",
    "\n",
    "def retrieve_ngrams(txt, n):\n",
    "    return [txt[i:i+n] for i in range(len(txt)-(n-1))]\n",
    "\n",
    "def clean_text(original_text):\n",
    "    original_text = re.sub(r'[~!@#$%^&*()_|+\\-=?;:\",.<>\\{\\}\\[\\]\\\\\\/\\n]',' ',original_text.lower())\n",
    "    original_text = re.sub(r'\\s+',' ',original_text)\n",
    "    return original_text\n",
    "\n",
    "def extract_grams_data(original_text, threshold=300):\n",
    "    ngrams = retrieve_ngrams(original_text, n=3)\n",
    "    ngram_frequencies = {}\n",
    "\n",
    "    for gram in ngrams:\n",
    "        if gram not in ngram_frequencies:\n",
    "            ngram_frequencies[gram] = 1\n",
    "        else:\n",
    "            ngram_frequencies[gram] += 1\n",
    "    \n",
    "    sorted_gram_name = []\n",
    "    sorted_gram_frequency = []\n",
    "    \n",
    "    sorted_ngram = sorted(ngram_frequencies.items(), key=operator.itemgetter(1), reverse=True)\n",
    "    for name, frequency in sorted_ngram:\n",
    "        sorted_gram_name.append(name)\n",
    "        sorted_gram_frequency.append(frequency)\n",
    "    \n",
    "    return (ngram_frequencies, sorted_gram_name[:threshold], sorted_gram_frequency[:threshold])\n",
    "\n",
    "def plot_gram_count(sorted_gram_name, sorted_gram_frequency, threshold=300):\n",
    "\n",
    "    if len(sorted_gram_name) != len(sorted_gram_frequency):\n",
    "        raise Error('names and frequencies must have the same length')\n",
    "    \n",
    "    indices = np.arange(0, len(sorted_gram_name[:threshold]), 1)\n",
    "    plt.rcParams['figure.figsize'] = (14,5)\n",
    "    plt.bar(indices, sorted_gram_frequency[:threshold], 1)\n",
    "#     # plt.xticks(t3, gram_name)\n",
    "    plt.show()\n",
    "\n",
    "\n",
    "def calc_distance(arr1, arr2):\n",
    "    distance = 0\n",
    "    len_arr1 = len(arr1)\n",
    "    for i, b in enumerate(arr2):\n",
    "        try:\n",
    "            index = arr1.index(b)\n",
    "            distance += abs(i-index)\n",
    "        except(ValueError):\n",
    "            distance += len_arr1\n",
    "#     print 'raw distance', distance\n",
    "    return 1 - (distance / float(len(arr1) * len(arr2)) )\n",
    "\n",
    "def detect_language(text):\n",
    "    text = clean_text(text)\n",
    "    ngram_frequencies, sorted_gram_name, sorted_gram_frequency = extract_grams_data(text)\n",
    "    languages = {}\n",
    "    languages['english'] = calc_distance(en_sorted_gram_name, sorted_gram_name)\n",
    "    languages['italian'] = calc_distance(it_sorted_gram_name, sorted_gram_name)\n",
    "    return languages\n"
   ]
  },
  {
   "cell_type": "markdown",
   "metadata": {},
   "source": [
    "### Import corpus text"
   ]
  },
  {
   "cell_type": "code",
   "execution_count": 316,
   "metadata": {
    "collapsed": false
   },
   "outputs": [
    {
     "name": "stdout",
     "output_type": "stream",
     "text": [
      "len: 229735\n",
      "asian exporters fear damage from u s japan rift mounting trade friction between the u s and japan has raised fears among many of asia's exporting nations that the row could inflict far reaching econom\n"
     ]
    }
   ],
   "source": [
    "# dir(reuters)\n",
    "reuters_text = clean_text(reuters.raw()[:250000])\n",
    "print 'len:', len(reuters_text)\n",
    "print reuters_text[:200]"
   ]
  },
  {
   "cell_type": "code",
   "execution_count": 317,
   "metadata": {
    "collapsed": false,
    "scrolled": false
   },
   "outputs": [
    {
     "name": "stdout",
     "output_type": "stream",
     "text": [
      "len: 228043\n",
      "carlo collodi le avventure di pinocchio storia di un burattino questo e book è stato realizzato anche grazie al sostegno di e text editoria web design multimedia http www e text it questo e book titol\n"
     ]
    }
   ],
   "source": [
    "file = open('./text/pinocchio.txt', 'r')\n",
    "italian_text = clean_text(file.read().decode('utf-8'))\n",
    "print 'len:', len(italian_text)\n",
    "print italian_text[:200]"
   ]
  },
  {
   "cell_type": "markdown",
   "metadata": {},
   "source": [
    "### Plot the most frequent ngrams"
   ]
  },
  {
   "cell_type": "code",
   "execution_count": 318,
   "metadata": {
    "collapsed": false
   },
   "outputs": [
    {
     "name": "stdout",
     "output_type": "stream",
     "text": [
      "[u' di', u'to ', u' e ', u're ', u'la ', u'no ', u' co', u'di ', u'io ', u' ch', u'che', u'he ', u' un', u'o d', u'chi', u' qu', u' pe', u'e d', u' pi', u' il']\n"
     ]
    },
    {
     "data": {
      "image/png": "[encoded data removed]",
      "text/plain": [
       "<matplotlib.figure.Figure at 0x7f5f368f1dd0>"
      ]
     },
     "metadata": {},
     "output_type": "display_data"
    }
   ],
   "source": [
    "it_ngram_frequencies, it_sorted_gram_name, it_sorted_gram_frequency = extract_grams_data(italian_text, THRESHOLD)\n",
    "print it_sorted_gram_name[:20]\n",
    "plot_gram_count(it_sorted_gram_name, it_sorted_gram_frequency, THRESHOLD)"
   ]
  },
  {
   "cell_type": "code",
   "execution_count": 319,
   "metadata": {
    "collapsed": false,
    "scrolled": false
   },
   "outputs": [
    {
     "name": "stdout",
     "output_type": "stream",
     "text": [
      "[u' th', u'the', u'he ', u' in', u'ed ', u' to', u' of', u'on ', u'of ', u'to ', u' co', u'es ', u'er ', u' an', u'ing', u'nd ', u'ng ', u'ts ', u' sa', u'in ']\n"
     ]
    },
    {
     "data": {
      "image/png": "[encoded data removed]",
      "text/plain": [
       "<matplotlib.figure.Figure at 0x7f5f368f1410>"
      ]
     },
     "metadata": {},
     "output_type": "display_data"
    }
   ],
   "source": [
    "en_ngram_frequencies, en_sorted_gram_name, en_sorted_gram_frequency = extract_grams_data(reuters_text)\n",
    "print en_sorted_gram_name[:20]\n",
    "plot_gram_count(en_sorted_gram_name, en_sorted_gram_frequency, THRESHOLD)"
   ]
  },
  {
   "cell_type": "markdown",
   "metadata": {},
   "source": [
    "### Test the language detection accuracy"
   ]
  },
  {
   "cell_type": "code",
   "execution_count": 324,
   "metadata": {
    "collapsed": false
   },
   "outputs": [
    {
     "name": "stdout",
     "output_type": "stream",
     "text": [
      "ITALIAN SENTENCES\n",
      "{'italian': 0.5329885057471264, 'english': 0.22333333333333338}\n",
      "{'italian': 0.49579710144927536, 'english': 0.1894927536231884}\n",
      "{'italian': 0.4068421052631579, 'english': 0.15000000000000002}\n",
      "{'italian': 0.42820512820512824, 'english': 0.19679487179487176}\n",
      "{'italian': 0.4247435897435897, 'english': 0.19493589743589745}\n",
      "ENGLISH SENTENCES\n",
      "{'italian': 0.12055555555555553, 'english': 0.24159722222222224}\n",
      "{'italian': 0.23037037037037034, 'english': 0.3303703703703704}\n",
      "{'italian': 0.09214285714285719, 'english': 0.32946428571428577}\n",
      "{'italian': 0.22413502109704642, 'english': 0.3840506329113924}\n",
      "{'italian': 0.11222222222222222, 'english': 0.3276767676767677}\n"
     ]
    }
   ],
   "source": [
    "print 'ITALIAN SENTENCES'\n",
    "print detect_language('ciao, come ti sta andando la vita')\n",
    "print detect_language('questa e la prima volta che torno a casa cosi tardi')\n",
    "print detect_language('i promessi sposi si erano andanti a dormire')\n",
    "print detect_language('la cittadinanza di questo paese puo essere cambiato durange la stagione delle fiere')\n",
    "print detect_language('non solo fa male alla salute, ma fa piangere pure ai bambini')\n",
    "print 'ENGLISH SENTENCES'\n",
    "print detect_language('hello, how are you doing, what do you thing of our project')\n",
    "print detect_language('this is the first time i go home so late')\n",
    "print detect_language('traveling is hard, that is why we always need to work overtime')\n",
    "print detect_language('our presidential elections are a mess, cause the iphones did not sell very well, the hell')\n",
    "print detect_language('what the hell are you talking about')\n"
   ]
  },
  {
   "cell_type": "code",
   "execution_count": null,
   "metadata": {
    "collapsed": true
   },
   "outputs": [],
   "source": []
  }
 ],
 "metadata": {
  "kernelspec": {
   "display_name": "Python 2",
   "language": "python",
   "name": "python2"
  },
  "language_info": {
   "codemirror_mode": {
    "name": "ipython",
    "version": 2
   },
   "file_extension": ".py",
   "mimetype": "text/x-python",
   "name": "python",
   "nbconvert_exporter": "python",
   "pygments_lexer": "ipython2",
   "version": "2.7.6"
  }
 },
 "nbformat": 4,
 "nbformat_minor": 1
}
