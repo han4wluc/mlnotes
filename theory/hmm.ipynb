{
 "cells": [
  {
   "cell_type": "markdown",
   "metadata": {},
   "source": [
    "# Hidden Markov Models\n",
    "\n",
    "https://web.stanford.edu/~jurafsky/slp3/8.pdf\n"
   ]
  },
  {
   "cell_type": "markdown",
   "metadata": {},
   "source": [
    "LATEX: http://csrgxtu.github.io/2015/03/20/Writing-Mathematic-Fomulars-in-Markdown/"
   ]
  },
  {
   "cell_type": "markdown",
   "metadata": {},
   "source": [
    "## Markov Chains"
   ]
  },
  {
   "cell_type": "markdown",
   "metadata": {},
   "source": [
    "<img src=\"./images/hmm1.png\" width=\"70%\" />"
   ]
  },
  {
   "cell_type": "markdown",
   "metadata": {},
   "source": [
    "<img src=\"./images/hmm2.png\" width=\"70%\" />"
   ]
  },
  {
   "cell_type": "markdown",
   "metadata": {},
   "source": [
    "**First-order Markow chain**: the probability of a particular state depends only on the previous state\n",
    "\n",
    "**Markov Assumpation**:\n",
    "\\begin{align}\n",
    "P(q_i|q_1...q_{i-1}) = P(qi|qi-1)\n",
    "\\end{align}\n",
    "\n",
    "outgoing arcs from a given state must sum to 1:\n",
    "\\begin{align}\n",
    "\\sum_{j=1}^{n}a_{ij} = 1 \\quad \\forall i\n",
    "\\end{align}"
   ]
  },
  {
   "cell_type": "markdown",
   "metadata": {},
   "source": [
    "### Alternative representation\n",
    "\n",
    "Alternative representation for Markov chains that doesn't rely on a start and end state\n",
    "\n",
    "<img src=\"./images/hmm4.png\" width=\"70%\"/>\n",
    "<img src=\"./images/hmm3.png\" width=\"70%\"/>\n",
    "\n",
    "The probability of state 1 being the first state can be represented either as $a_{01}$ or as $\\pi_1$\n",
    "\n",
    "Because $\\pi_i$ expressed the probability $p(q_i|START)$, all the $\\pi$ probabilities must sum to 1\n",
    "\n",
    "\\begin{align}\n",
    "\\sum_{i=1}^{n}\\pi_i = 1\n",
    "\\end{align}\n"
   ]
  },
  {
   "cell_type": "markdown",
   "metadata": {},
   "source": [
    "### Exercise\n",
    "What are the probabilites of the following sequences?\n",
    "* hot hot hot hot\n",
    "* cold hot cold hot"
   ]
  },
  {
   "cell_type": "code",
   "execution_count": 36,
   "metadata": {
    "collapsed": false,
    "scrolled": true
   },
   "outputs": [
    {
     "name": "stdout",
     "output_type": "stream",
     "text": [
      "probability of hot hot hot hot: 0.0625\n",
      "probability of cold hot cold hot: 0.0024\n"
     ]
    }
   ],
   "source": [
    "# hot hot hot hot =\n",
    "# P(H|START) * P(H|H) * P(H|H) * P(H|H) =\n",
    "# 0.5 * 0.5 * 0.5 * 0.5\n",
    "print 'probability of hot hot hot hot:', 0.5 * 0.5 * 0.5 * 0.5\n",
    "\n",
    "# cold hot cold hot =\n",
    "# P(C|START) * P(H|C) * P(C|H) * P(H|C) =\n",
    "# 0.3 * 0.2 * 0.2 * 0.2\n",
    "print 'probability of cold hot cold hot:', 0.3 * 0.2 * 0.2 * 0.2"
   ]
  },
  {
   "cell_type": "markdown",
   "metadata": {},
   "source": [
    "## Hidden Markov Model"
   ]
  },
  {
   "cell_type": "markdown",
   "metadata": {},
   "source": [
    "* Ovserved events\n",
    "* Hidden events\n",
    "\n",
    "<img src=\"./images/hmm5.png\" width=\"70%\"/>"
   ]
  },
  {
   "cell_type": "markdown",
   "metadata": {},
   "source": [
    "**Markov Assumption**: $P(q_i|q_1...q_{i-1}) = P(qi|qi-1)$ <br>\n",
    "The probability of a particular state depends only on the previous state\n",
    "\n",
    "**Output Independence**: $P(o_i|q_1,...,q_T,o1,...,o_i,...o_T) = P(o_i|q_i)$ <br>\n",
    "The probability of an output observation $o_i$ depends only on the state that produced the observation $q_i$ and not on any other states or any other observations\n",
    "\n",
    "<img src=\"./images/hmm6.png\"/>\n"
   ]
  },
  {
   "cell_type": "markdown",
   "metadata": {},
   "source": [
    "**Fully connected / ergodic HMM**: have a (non-zero) probability of transition between any two states. \n",
    "\n",
    "**Left-to-right / Bakis HMM**: the state transitions proceed from left to right\n",
    "\n",
    "<img src=\"./images/hmm7.png\"/>\n",
    "*Left-to-right hmm on the left. and fully connected HMM on the right*"
   ]
  },
  {
   "cell_type": "markdown",
   "metadata": {},
   "source": [
    "## 3 fundamental problems\n",
    "\n",
    "* **Problem 1 (Likelihood)**: Give an $HMM \\lambda = (A,B)$ and an observation sequence $O$, determine the likelihood of $P(O|\\lambda)$\n",
    "* **Problem 2 (Decoding)**: Given an observation sequence $O$ and an $HMM \\lambda = (A,B)$, discover the best hidden state sequence $Q$.\n",
    "Determining which sequence of variables is the underlying source of some sequence of observations is called the decoding task\n",
    "\n",
    "* **Problem 3 (Learning)**: Given an observation sequence $O$ and the set of states in the HMM, learn the HMM parameters A and B."
   ]
  },
  {
   "cell_type": "markdown",
   "metadata": {},
   "source": [
    "## Likelihood Computation: The Forward Algorithm\n",
    "\n",
    "Give an $HMM \\lambda = (A,B)$ and an observation sequence $O$, determine the likelihood of $P(O|\\lambda)$\n",
    "\n",
    "What is the probability of the sequence 3 1 3?\n",
    "\n",
    "**Likelihood of the observation sequence**:\n",
    "\\begin{align}\n",
    "P(O|Q) = \\prod_{i=1}^{T}P(o_i|q_i)\n",
    "\\end{align}\n",
    "\n",
    "<img src=\"./images/hmm8.png\"/>\n",
    "\n",
    "\\begin{align}\n",
    "P(313|hothotcold) = P(3|hot)×P(1|hot)×P(3|cold)\n",
    "\\end{align}\n",
    "\n",
    "but since we don't know the weather states,\n",
    "\n",
    "\\begin{align}\n",
    "P(O,Q) = P(O|Q) \\times P(Q) = \\prod_{i=1}^{n}P(o_i|q_i) \\times \\prod_{i=1}^{n}P(q_i|q_{i-1})\n",
    "\\end{align}\n",
    "\n",
    "\\begin{align}\n",
    "P(313,hot\\ hot\\ cold) = P(hot|start)×P(hot|hot)×P(cold|hot) ×P(3|hot) × P(1|hot) × P(3|cold)\n",
    "\\end{align}\n",
    "\n",
    "Now that we know how to compute the joint probability of the observations with a particular hidden state sequence, we can compute the total probability of the observations just by summing over all possible hidden state sequences:\n",
    "\n",
    "\\begin{align}\n",
    "P(O) = \\sum_{Q}P(O,Q) = \\sum_{Q}P(O|Q)P(Q)\n",
    "\\end{align}\n",
    "\n",
    "<img src=\"./images/hmm9.png\"/>\n",
    "\n",
    "\\begin{align}\n",
    "P(3 1 3) = P(3 1 3,cold\\ cold\\ cold)+P(3 1 3,cold\\ cold\\ hot)+P(3 1 3,hot\\ hot\\ cold)+...\n",
    "\\end{align}"
   ]
  },
  {
   "cell_type": "markdown",
   "metadata": {},
   "source": [
    "<img src=\"./images/hmm6.png\"/>"
   ]
  },
  {
   "cell_type": "code",
   "execution_count": 110,
   "metadata": {
    "collapsed": false
   },
   "outputs": [],
   "source": [
    "import itertools\n",
    "\n",
    "HOT = 'HOT'\n",
    "COLD = 'COLD'\n",
    "END = 'END'\n",
    "\n",
    "start = {\n",
    "    'HOT': .8,\n",
    "    'COLD': .2,\n",
    "}\n",
    "\n",
    "hot = {\n",
    "    'HOT': .6,\n",
    "    'COLD': .3,\n",
    "    'END': .1,\n",
    "    1: .2,\n",
    "    2: .4,\n",
    "    3: .4,\n",
    "}\n",
    "\n",
    "cold = {\n",
    "    'HOT': .4,\n",
    "    'COLD': .5,\n",
    "    'END': .1,\n",
    "    1: .5,\n",
    "    2: .4,\n",
    "    3: .1,\n",
    "}\n",
    "\n",
    "# P(313,hot hot cold)=P(hot|start)×P(hot|hot)×P(cold|hot)×P(3|hot)×P(1|hot)×P(3|cold)\n",
    "\n",
    "def calc_weathers(weathers):\n",
    "    p = 0\n",
    "    for i, w in enumerate(weathers):\n",
    "        if i == 0:\n",
    "            p = start[w]\n",
    "            last_w = w\n",
    "            continue\n",
    "\n",
    "        last_w = weathers[i-1]\n",
    "        if last_w == HOT:\n",
    "            p = p * hot[w]\n",
    "        else:\n",
    "            p = p * cold[w]\n",
    "\n",
    "    return p\n",
    "\n",
    "def calc_icecreams(weathers, icecreams):\n",
    "    p = 0\n",
    "    for w, ic in zip(weathers, icecreams):\n",
    "        if p == 0:\n",
    "            if w == COLD:\n",
    "                p = cold[ic]\n",
    "            else:\n",
    "                p = hot[ic]\n",
    "            continue\n",
    "        if w == COLD:\n",
    "            p = p * cold[ic]\n",
    "        else:\n",
    "            p = p * hot[ic]\n",
    "    return p\n",
    "\n",
    "def calc_weather_icecreams(weathers, icecreams):\n",
    "    return calc_weathers(weathers) * calc_icecreams(weathers, icecreams)\n",
    "    \n",
    "def permutation(weathers):\n",
    "    return list(set([p for p in itertools.product(weathers, repeat=len(weathers))]))\n",
    "\n",
    "def get_p(weathers, icecreams):\n",
    "    p = 0\n",
    "    for combination in permutation(weathers):\n",
    "        p += calc_weather_icecreams(combination, icecreams)\n",
    "\n",
    "    return p\n",
    "\n"
   ]
  },
  {
   "cell_type": "code",
   "execution_count": 50,
   "metadata": {
    "collapsed": false
   },
   "outputs": [
    {
     "data": {
      "text/plain": [
       "0.006380880000000001"
      ]
     },
     "execution_count": 50,
     "metadata": {},
     "output_type": "execute_result"
    }
   ],
   "source": [
    "weathers = [COLD, HOT, HOT, COLD]\n",
    "icecreams = [1, 2, 1, 3]\n",
    "\n",
    "get_p(weathers, icecreams)"
   ]
  },
  {
   "cell_type": "markdown",
   "metadata": {},
   "source": [
    "## Forward Algorithm\n",
    "\n",
    "* is a type of **dynamic programming**\n",
    "* speed: $O(N^2T)$\n",
    "\n",
    "<img src=\"./images/hmm10.png\" width=\"70%\"/>\n",
    "\n",
    "Each cell of the forward algorithm trellis αt ( j) represents the probability of be- ing in state j after seeing the first t observations, given the automaton λ . The value of each cell αt ( j) is computed by summing over the probabilities of every path that could lead us to this cell. Formally, each cell expresses the following probability:\n",
    "\n",
    "\\begin{align}\n",
    "\\alpha_t(j) = P(o_1,o_2...o_t,q_t = j|\\lambda)\n",
    "\\end{align}\n",
    "\n",
    "Here, qt = j means “the $t$th state in the sequence of states is state $j$”. We compute this probability $αt(j)$ by summing over the extensions of all the paths that lead to the current cell. For a given state $q_j$ at time $t$, the value $αt(j)$ is computed as\n",
    "\n",
    "\\begin{align}\n",
    "\\alpha_t(j) = \\sum_{i=1}^{N}\\alpha_{t-1}(i)a_{ij}b_j(o_t)\n",
    "\\end{align}\n",
    "\n",
    "\n",
    "\n"
   ]
  },
  {
   "cell_type": "markdown",
   "metadata": {},
   "source": [
    "<img src=\"./images/hmm11.png\"/>\n",
    "\n",
    "$\\alpha_2(2)$: the forward probability of being at time step 2 in state 2 having generated the partial observation 3 1.\n",
    "\n",
    "\n",
    "$\\alpha_1(1) \\times P(H|H) \\times P(1|H)$ <br>\n",
    "$\\alpha_1(2) \\times P(H|C) \\times P(1|H)$\n",
    "\n",
    "\n"
   ]
  },
  {
   "cell_type": "markdown",
   "metadata": {},
   "source": [
    "1. Initialization:\n",
    "\\begin{align}\n",
    "a_1(j) = a_{0j}b_j(o_1) \\quad 1 ≤ j ≤ N\n",
    "\\end{align}\n",
    "\n",
    "2. Recursion(since states 0 and F are non-emitting):\n",
    "\\begin{align}\n",
    "\\alpha_t(j) = \\sum_{i=1}^{N}\\alpha_{t-1}(i)a_{ij}b_j(o_t); \\quad 1 ≤ j ≤ N, 1 < t ≤ T\n",
    "\\end{align}\n",
    "\n",
    "3. Termination:\n",
    "\\begin{align}\n",
    "P(O|\\lambda) = \\alpha_(T)(q_F) = \\sum_{i=1}^{N}\\alpha_{T}(i)\\alpha_{iF}\n",
    "\\end{align}"
   ]
  },
  {
   "cell_type": "markdown",
   "metadata": {},
   "source": [
    "<img src=\"./images/hmm12.png\"/>"
   ]
  },
  {
   "cell_type": "markdown",
   "metadata": {},
   "source": [
    "<img src=\"./images/hmm13.png\" width=\"70%\"/>"
   ]
  },
  {
   "cell_type": "code",
   "execution_count": 118,
   "metadata": {
    "collapsed": false
   },
   "outputs": [
    {
     "name": "stdout",
     "output_type": "stream",
     "text": [
      "[[0.32000000000000006, 0.04000000000000001, 0.018080000000000006], [0.020000000000000004, 0.053000000000000005, 0.003850000000000001]]\n",
      "0.002193\n"
     ]
    }
   ],
   "source": [
    "O = [3, 1, 3]\n",
    "T = len(O)\n",
    "N = len([HOT, COLD])\n",
    "\n",
    "matrix = []\n",
    "\n",
    "for z in range(N):\n",
    "    matrix.append([None] * T)\n",
    "\n",
    "# initialiation step\n",
    "for s in range(N):\n",
    "    weather = HOT\n",
    "    obs = hot\n",
    "    if s == 1:\n",
    "        weather = COLD\n",
    "        obs = cold\n",
    "    matrix[s][0] = start[weather] * obs[O[0]]\n",
    "\n",
    "\n",
    "# recursion step\n",
    "for t in range(1,T):\n",
    "    for s in range(N):\n",
    "        weather = HOT\n",
    "        obs = hot\n",
    "        if s == 1:\n",
    "            weather = COLD\n",
    "            obs = cold\n",
    "\n",
    "        _sum = 0\n",
    "        for sp in range(N):\n",
    "            obs_sp = hot\n",
    "            if sp == 1:\n",
    "                obs_sp = cold\n",
    "            \n",
    "#             print t, matrix[sp][t-1], obs_sp[weather], obs[O[t]], weather\n",
    "            _sum += matrix[sp][t-1] * obs_sp[weather] * obs[O[t]]\n",
    "        matrix[s][t] = _sum\n",
    "\n",
    "\n",
    "# termination step\n",
    "_sum = 0\n",
    "final = 0\n",
    "for s in range(N):\n",
    "    obs = hot\n",
    "    if s == 1:\n",
    "        obs = cold\n",
    "    _sum += matrix[s][T-1] * obs[END]\n",
    "\n",
    "final = _sum\n",
    "    \n",
    "print matrix\n",
    "print final"
   ]
  },
  {
   "cell_type": "code",
   "execution_count": 117,
   "metadata": {
    "collapsed": false
   },
   "outputs": [
    {
     "name": "stdout",
     "output_type": "stream",
     "text": [
      "0.4\n",
      "0.1\n",
      "0.01808\n",
      "0.01808\n",
      "0.00385\n",
      "0.00385\n",
      "0.002193\n"
     ]
    }
   ],
   "source": [
    "# P(3|H) = \n",
    "print hot[3]\n",
    "# P(3|C)\n",
    "print cold[3]\n",
    "\n",
    "print 0.040 * hot[HOT] * hot[3] +  0.053 * cold[HOT] * hot[3]\n",
    "print 0.040 * 0.6 * 0.4  +  0.053 * 0.4 * 0.4\n",
    "\n",
    "print 0.040 * hot[COLD] * cold[3] +  0.053 * cold[COLD] * cold[3]\n",
    "print 0.040 * 0.3 * 0.1  +  0.053 * 0.5 * 0.1\n",
    "\n",
    "# final\n",
    "print 0.01808 * 0.1 + 0.00385 * 0.1"
   ]
  },
  {
   "cell_type": "markdown",
   "metadata": {},
   "source": [
    "## Decoding: The Viterbi Algorithm\n",
    "Given a sequence of ice-cream observations 3 1 3 and an HMM, the task of the decoder is to find the best hidden weather sequence (H H H)\n",
    "\n",
    "the Viterbi algorithm is identical to the forward algorithm except that it takes the max over the previous path probabilities whereas the forward algorithm takes the sum. Note also that the Viterbi algorithm has one component that the forward algorithm doesn’t have: backpointers. The reason is that while the forward algorithm needs to pro- duce an observation likelihood, the Viterbi algorithm must produce a probability and also the most likely state sequence"
   ]
  },
  {
   "cell_type": "code",
   "execution_count": 130,
   "metadata": {
    "collapsed": false
   },
   "outputs": [
    {
     "name": "stdout",
     "output_type": "stream",
     "text": [
      "[[0.32000000000000006, 0.03840000000000001, 0.009216000000000002], [0.020000000000000004, 0.04800000000000001, 0.0024000000000000007]]\n",
      "[0.0009216000000000003, 0.0002400000000000001]\n",
      "0.0009216\n",
      "0\n"
     ]
    }
   ],
   "source": [
    "O = [3, 1, 3]\n",
    "T = len(O)\n",
    "N = len([HOT, COLD])\n",
    "\n",
    "matrix = []\n",
    "backpointer = []\n",
    "\n",
    "for z in range(N):\n",
    "    matrix.append([None] * T)\n",
    "    backpointer.append([None] * T)\n",
    "\n",
    "# initialiation step\n",
    "for s in range(N):\n",
    "    weather = HOT\n",
    "    obs = hot\n",
    "    if s == 1:\n",
    "        weather = COLD\n",
    "        obs = cold\n",
    "    matrix[s][0] = start[weather] * obs[O[0]]\n",
    "    backpointer[s][0] = 0\n",
    "\n",
    "\n",
    "# recursion step\n",
    "for t in range(1,T):\n",
    "    for s in range(N):\n",
    "        weather = HOT\n",
    "        obs = hot\n",
    "        if s == 1:\n",
    "            weather = COLD\n",
    "            obs = cold\n",
    "\n",
    "        _values = []\n",
    "        _bvalues = []\n",
    "        for sp in range(N):\n",
    "            obs_sp = hot\n",
    "            if sp == 1:\n",
    "                obs_sp = cold\n",
    "            \n",
    "#             print t, matrix[sp][t-1], obs_sp[weather], obs[O[t]], weather\n",
    "            _values.append(matrix[sp][t-1] * obs_sp[weather] * obs[O[t]])\n",
    "            _bvalues.append(matrix[sp][t-1] * obs_sp[weather] * obs[O[t]])\n",
    "        matrix[s][t] = max(_values)\n",
    "        backpointer[s][t] = np.argmax(_bvalues)\n",
    "\n",
    "\n",
    "# termination step\n",
    "_values = []\n",
    "_bvalues = []\n",
    "final = 0\n",
    "finalb = 0\n",
    "for s in range(N):\n",
    "    obs = hot\n",
    "    if s == 1:\n",
    "        obs = cold\n",
    "    _values.append(matrix[s][T-1] * obs[END])\n",
    "    _bvalues.append(matrix[s][T-1] * obs[END])\n",
    "\n",
    "final = max(_values)\n",
    "finalb = np.argmax(_bvalues)\n",
    "    \n",
    "print matrix\n",
    "print _bvalues #is this right?\n",
    "print final\n",
    "print finalb # is this right?"
   ]
  },
  {
   "cell_type": "code",
   "execution_count": null,
   "metadata": {
    "collapsed": false
   },
   "outputs": [],
   "source": []
  },
  {
   "cell_type": "code",
   "execution_count": null,
   "metadata": {
    "collapsed": false
   },
   "outputs": [],
   "source": []
  },
  {
   "cell_type": "code",
   "execution_count": null,
   "metadata": {
    "collapsed": true
   },
   "outputs": [],
   "source": []
  }
 ],
 "metadata": {
  "kernelspec": {
   "display_name": "Python 2",
   "language": "python",
   "name": "python2"
  },
  "language_info": {
   "codemirror_mode": {
    "name": "ipython",
    "version": 2
   },
   "file_extension": ".py",
   "mimetype": "text/x-python",
   "name": "python",
   "nbconvert_exporter": "python",
   "pygments_lexer": "ipython2",
   "version": "2.7.6"
  }
 },
 "nbformat": 4,
 "nbformat_minor": 1
}
